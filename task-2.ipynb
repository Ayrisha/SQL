{
 "cells": [
  {
   "cell_type": "code",
   "execution_count": 214,
   "id": "4a521a68",
   "metadata": {},
   "outputs": [],
   "source": [
    "import numpy as np\n",
    "import pandas as pd\n",
    "import matplotlib.pyplot as plt\n",
    "import seaborn as sns"
   ]
  },
  {
   "cell_type": "markdown",
   "id": "ba6397cf",
   "metadata": {},
   "source": [
    "# 1. Анализ данных"
   ]
  },
  {
   "cell_type": "code",
   "execution_count": 215,
   "id": "c9b9f7e2",
   "metadata": {},
   "outputs": [],
   "source": [
    "df = pd.read_csv('result.csv')"
   ]
  },
  {
   "cell_type": "markdown",
   "id": "a34518ed",
   "metadata": {},
   "source": [
    "Обзор датасета первых 10 элементов"
   ]
  },
  {
   "cell_type": "code",
   "execution_count": 216,
   "id": "f4bfa1de",
   "metadata": {},
   "outputs": [
    {
     "data": {
      "text/html": [
       "<div>\n",
       "<style scoped>\n",
       "    .dataframe tbody tr th:only-of-type {\n",
       "        vertical-align: middle;\n",
       "    }\n",
       "\n",
       "    .dataframe tbody tr th {\n",
       "        vertical-align: top;\n",
       "    }\n",
       "\n",
       "    .dataframe thead th {\n",
       "        text-align: right;\n",
       "    }\n",
       "</style>\n",
       "<table border=\"1\" class=\"dataframe\">\n",
       "  <thead>\n",
       "    <tr style=\"text-align: right;\">\n",
       "      <th></th>\n",
       "      <th>Unnamed: 0</th>\n",
       "      <th>course_id</th>\n",
       "      <th>course_name</th>\n",
       "      <th>subject</th>\n",
       "      <th>subject_type</th>\n",
       "      <th>course_type</th>\n",
       "      <th>course_start_date</th>\n",
       "      <th>student_id</th>\n",
       "      <th>student_last_name</th>\n",
       "      <th>city</th>\n",
       "      <th>is_active</th>\n",
       "      <th>course_created_at</th>\n",
       "      <th>full_months_access</th>\n",
       "      <th>completed_homeworks_count</th>\n",
       "    </tr>\n",
       "  </thead>\n",
       "  <tbody>\n",
       "    <tr>\n",
       "      <th>0</th>\n",
       "      <td>0</td>\n",
       "      <td>16</td>\n",
       "      <td>Годовой 2к25 стандарт</td>\n",
       "      <td>Обществознание</td>\n",
       "      <td>ЕГЭ</td>\n",
       "      <td>Годовой</td>\n",
       "      <td>2024-09-16</td>\n",
       "      <td>10001</td>\n",
       "      <td>Markova</td>\n",
       "      <td>Самара</td>\n",
       "      <td>Да</td>\n",
       "      <td>2024-07-25 18:04:20</td>\n",
       "      <td>2.0</td>\n",
       "      <td>10</td>\n",
       "    </tr>\n",
       "    <tr>\n",
       "      <th>1</th>\n",
       "      <td>1</td>\n",
       "      <td>19</td>\n",
       "      <td>Годовой 2к25 стандарт</td>\n",
       "      <td>Русский</td>\n",
       "      <td>ЕГЭ</td>\n",
       "      <td>Годовой</td>\n",
       "      <td>2024-09-21</td>\n",
       "      <td>10001</td>\n",
       "      <td>Markova</td>\n",
       "      <td>Самара</td>\n",
       "      <td>Да</td>\n",
       "      <td>2024-07-25 18:04:20</td>\n",
       "      <td>2.0</td>\n",
       "      <td>9</td>\n",
       "    </tr>\n",
       "    <tr>\n",
       "      <th>2</th>\n",
       "      <td>2</td>\n",
       "      <td>24</td>\n",
       "      <td>В погоне за пятеркой 2К25 стандарт</td>\n",
       "      <td>Математика (база)</td>\n",
       "      <td>ЕГЭ</td>\n",
       "      <td>Годовой</td>\n",
       "      <td>2024-09-17</td>\n",
       "      <td>10001</td>\n",
       "      <td>Markova</td>\n",
       "      <td>Самара</td>\n",
       "      <td>Да</td>\n",
       "      <td>2024-09-01 07:49:22</td>\n",
       "      <td>2.0</td>\n",
       "      <td>3</td>\n",
       "    </tr>\n",
       "    <tr>\n",
       "      <th>3</th>\n",
       "      <td>3</td>\n",
       "      <td>19</td>\n",
       "      <td>Годовой 2к25 стандарт</td>\n",
       "      <td>Русский</td>\n",
       "      <td>ЕГЭ</td>\n",
       "      <td>Годовой</td>\n",
       "      <td>2024-09-21</td>\n",
       "      <td>10002</td>\n",
       "      <td>Коваленко</td>\n",
       "      <td>Москва</td>\n",
       "      <td>Нет</td>\n",
       "      <td>2024-07-25 18:07:04</td>\n",
       "      <td>1.0</td>\n",
       "      <td>5</td>\n",
       "    </tr>\n",
       "    <tr>\n",
       "      <th>4</th>\n",
       "      <td>4</td>\n",
       "      <td>21</td>\n",
       "      <td>Годовой 2к25 стандарт</td>\n",
       "      <td>Химия</td>\n",
       "      <td>ЕГЭ</td>\n",
       "      <td>Годовой</td>\n",
       "      <td>2024-09-16</td>\n",
       "      <td>10005</td>\n",
       "      <td>Гусев</td>\n",
       "      <td>Белгород</td>\n",
       "      <td>Да</td>\n",
       "      <td>2024-07-26 05:38:40</td>\n",
       "      <td>1.0</td>\n",
       "      <td>1</td>\n",
       "    </tr>\n",
       "    <tr>\n",
       "      <th>5</th>\n",
       "      <td>5</td>\n",
       "      <td>25</td>\n",
       "      <td>Годовой 2к25 стандарт</td>\n",
       "      <td>Биология</td>\n",
       "      <td>ЕГЭ</td>\n",
       "      <td>Годовой</td>\n",
       "      <td>2024-09-17</td>\n",
       "      <td>10005</td>\n",
       "      <td>Гусев</td>\n",
       "      <td>Белгород</td>\n",
       "      <td>Да</td>\n",
       "      <td>2024-07-26 05:38:48</td>\n",
       "      <td>1.0</td>\n",
       "      <td>1</td>\n",
       "    </tr>\n",
       "    <tr>\n",
       "      <th>6</th>\n",
       "      <td>6</td>\n",
       "      <td>16</td>\n",
       "      <td>Годовой 2к25 стандарт</td>\n",
       "      <td>Обществознание</td>\n",
       "      <td>ЕГЭ</td>\n",
       "      <td>Годовой</td>\n",
       "      <td>2024-09-16</td>\n",
       "      <td>10006</td>\n",
       "      <td>Пушкина</td>\n",
       "      <td>Москва</td>\n",
       "      <td>Да</td>\n",
       "      <td>2024-07-25 18:48:31</td>\n",
       "      <td>2.0</td>\n",
       "      <td>17</td>\n",
       "    </tr>\n",
       "    <tr>\n",
       "      <th>7</th>\n",
       "      <td>7</td>\n",
       "      <td>16</td>\n",
       "      <td>Годовой 2к25 стандарт</td>\n",
       "      <td>Обществознание</td>\n",
       "      <td>ЕГЭ</td>\n",
       "      <td>Годовой</td>\n",
       "      <td>2024-09-16</td>\n",
       "      <td>10009</td>\n",
       "      <td>Чернобель</td>\n",
       "      <td>Минеральные Воды</td>\n",
       "      <td>Да</td>\n",
       "      <td>2024-07-26 06:05:09</td>\n",
       "      <td>2.0</td>\n",
       "      <td>16</td>\n",
       "    </tr>\n",
       "    <tr>\n",
       "      <th>8</th>\n",
       "      <td>8</td>\n",
       "      <td>16</td>\n",
       "      <td>Годовой 2к25 стандарт</td>\n",
       "      <td>Обществознание</td>\n",
       "      <td>ЕГЭ</td>\n",
       "      <td>Годовой</td>\n",
       "      <td>2024-09-16</td>\n",
       "      <td>10010</td>\n",
       "      <td>Мирзоян</td>\n",
       "      <td>Якутск</td>\n",
       "      <td>Да</td>\n",
       "      <td>2024-07-26 11:35:32</td>\n",
       "      <td>2.0</td>\n",
       "      <td>15</td>\n",
       "    </tr>\n",
       "    <tr>\n",
       "      <th>9</th>\n",
       "      <td>9</td>\n",
       "      <td>18</td>\n",
       "      <td>Годовой 2к25 стандарт</td>\n",
       "      <td>История</td>\n",
       "      <td>ЕГЭ</td>\n",
       "      <td>Годовой</td>\n",
       "      <td>2024-09-18</td>\n",
       "      <td>10010</td>\n",
       "      <td>Мирзоян</td>\n",
       "      <td>Якутск</td>\n",
       "      <td>Да</td>\n",
       "      <td>2024-07-26 11:35:32</td>\n",
       "      <td>2.0</td>\n",
       "      <td>15</td>\n",
       "    </tr>\n",
       "  </tbody>\n",
       "</table>\n",
       "</div>"
      ],
      "text/plain": [
       "   Unnamed: 0  course_id                         course_name  \\\n",
       "0           0         16               Годовой 2к25 стандарт   \n",
       "1           1         19               Годовой 2к25 стандарт   \n",
       "2           2         24  В погоне за пятеркой 2К25 стандарт   \n",
       "3           3         19               Годовой 2к25 стандарт   \n",
       "4           4         21               Годовой 2к25 стандарт   \n",
       "5           5         25               Годовой 2к25 стандарт   \n",
       "6           6         16               Годовой 2к25 стандарт   \n",
       "7           7         16               Годовой 2к25 стандарт   \n",
       "8           8         16               Годовой 2к25 стандарт   \n",
       "9           9         18               Годовой 2к25 стандарт   \n",
       "\n",
       "             subject subject_type course_type course_start_date  student_id  \\\n",
       "0     Обществознание          ЕГЭ     Годовой        2024-09-16       10001   \n",
       "1            Русский          ЕГЭ     Годовой        2024-09-21       10001   \n",
       "2  Математика (база)          ЕГЭ     Годовой        2024-09-17       10001   \n",
       "3            Русский          ЕГЭ     Годовой        2024-09-21       10002   \n",
       "4              Химия          ЕГЭ     Годовой        2024-09-16       10005   \n",
       "5           Биология          ЕГЭ     Годовой        2024-09-17       10005   \n",
       "6     Обществознание          ЕГЭ     Годовой        2024-09-16       10006   \n",
       "7     Обществознание          ЕГЭ     Годовой        2024-09-16       10009   \n",
       "8     Обществознание          ЕГЭ     Годовой        2024-09-16       10010   \n",
       "9            История          ЕГЭ     Годовой        2024-09-18       10010   \n",
       "\n",
       "  student_last_name              city is_active    course_created_at  \\\n",
       "0           Markova            Самара        Да  2024-07-25 18:04:20   \n",
       "1           Markova            Самара        Да  2024-07-25 18:04:20   \n",
       "2           Markova            Самара        Да  2024-09-01 07:49:22   \n",
       "3         Коваленко            Москва       Нет  2024-07-25 18:07:04   \n",
       "4             Гусев          Белгород        Да  2024-07-26 05:38:40   \n",
       "5             Гусев          Белгород        Да  2024-07-26 05:38:48   \n",
       "6           Пушкина            Москва        Да  2024-07-25 18:48:31   \n",
       "7         Чернобель  Минеральные Воды        Да  2024-07-26 06:05:09   \n",
       "8           Мирзоян            Якутск        Да  2024-07-26 11:35:32   \n",
       "9           Мирзоян            Якутск        Да  2024-07-26 11:35:32   \n",
       "\n",
       "   full_months_access  completed_homeworks_count  \n",
       "0                 2.0                         10  \n",
       "1                 2.0                          9  \n",
       "2                 2.0                          3  \n",
       "3                 1.0                          5  \n",
       "4                 1.0                          1  \n",
       "5                 1.0                          1  \n",
       "6                 2.0                         17  \n",
       "7                 2.0                         16  \n",
       "8                 2.0                         15  \n",
       "9                 2.0                         15  "
      ]
     },
     "execution_count": 216,
     "metadata": {},
     "output_type": "execute_result"
    }
   ],
   "source": [
    "df.head(10)"
   ]
  },
  {
   "cell_type": "code",
   "execution_count": 217,
   "id": "f604fbb6",
   "metadata": {},
   "outputs": [
    {
     "name": "stdout",
     "output_type": "stream",
     "text": [
      "<class 'pandas.core.frame.DataFrame'>\n",
      "RangeIndex: 5385 entries, 0 to 5384\n",
      "Data columns (total 14 columns):\n",
      " #   Column                     Non-Null Count  Dtype  \n",
      "---  ------                     --------------  -----  \n",
      " 0   Unnamed: 0                 5385 non-null   int64  \n",
      " 1   course_id                  5385 non-null   int64  \n",
      " 2   course_name                5385 non-null   object \n",
      " 3   subject                    5385 non-null   object \n",
      " 4   subject_type               5385 non-null   object \n",
      " 5   course_type                5385 non-null   object \n",
      " 6   course_start_date          5385 non-null   object \n",
      " 7   student_id                 5385 non-null   int64  \n",
      " 8   student_last_name          5385 non-null   object \n",
      " 9   city                       5385 non-null   object \n",
      " 10  is_active                  5385 non-null   object \n",
      " 11  course_created_at          5385 non-null   object \n",
      " 12  full_months_access         5370 non-null   float64\n",
      " 13  completed_homeworks_count  5385 non-null   int64  \n",
      "dtypes: float64(1), int64(4), object(9)\n",
      "memory usage: 589.1+ KB\n"
     ]
    }
   ],
   "source": [
    "df.info()"
   ]
  },
  {
   "cell_type": "markdown",
   "id": "8cb3b959",
   "metadata": {},
   "source": [
    "Удаляем колонку 'Unnamed: 0', так как она не несет важную информацию"
   ]
  },
  {
   "cell_type": "code",
   "execution_count": 218,
   "id": "6decfcc7",
   "metadata": {},
   "outputs": [],
   "source": [
    "\n",
    "df=df.drop(columns='Unnamed: 0')"
   ]
  },
  {
   "cell_type": "code",
   "execution_count": 219,
   "id": "2212bcea",
   "metadata": {},
   "outputs": [
    {
     "name": "stdout",
     "output_type": "stream",
     "text": [
      "<class 'pandas.core.frame.DataFrame'>\n",
      "RangeIndex: 5385 entries, 0 to 5384\n",
      "Data columns (total 13 columns):\n",
      " #   Column                     Non-Null Count  Dtype  \n",
      "---  ------                     --------------  -----  \n",
      " 0   course_id                  5385 non-null   int64  \n",
      " 1   course_name                5385 non-null   object \n",
      " 2   subject                    5385 non-null   object \n",
      " 3   subject_type               5385 non-null   object \n",
      " 4   course_type                5385 non-null   object \n",
      " 5   course_start_date          5385 non-null   object \n",
      " 6   student_id                 5385 non-null   int64  \n",
      " 7   student_last_name          5385 non-null   object \n",
      " 8   city                       5385 non-null   object \n",
      " 9   is_active                  5385 non-null   object \n",
      " 10  course_created_at          5385 non-null   object \n",
      " 11  full_months_access         5370 non-null   float64\n",
      " 12  completed_homeworks_count  5385 non-null   int64  \n",
      "dtypes: float64(1), int64(3), object(9)\n",
      "memory usage: 547.0+ KB\n"
     ]
    }
   ],
   "source": [
    "df.info()"
   ]
  },
  {
   "cell_type": "code",
   "execution_count": 220,
   "id": "5f572cbf",
   "metadata": {},
   "outputs": [
    {
     "data": {
      "text/plain": [
       "0       False\n",
       "1       False\n",
       "2       False\n",
       "3       False\n",
       "4       False\n",
       "        ...  \n",
       "5380    False\n",
       "5381    False\n",
       "5382    False\n",
       "5383    False\n",
       "5384    False\n",
       "Length: 5385, dtype: bool"
      ]
     },
     "execution_count": 220,
     "metadata": {},
     "output_type": "execute_result"
    }
   ],
   "source": [
    "df.duplicated(keep='first')"
   ]
  },
  {
   "cell_type": "markdown",
   "id": "41b5f756",
   "metadata": {},
   "source": [
    "В датафрейме дубликатов не обнаружено"
   ]
  },
  {
   "cell_type": "code",
   "execution_count": 221,
   "id": "4aeee1f0",
   "metadata": {},
   "outputs": [
    {
     "data": {
      "text/plain": [
       "course_id                     0\n",
       "course_name                   0\n",
       "subject                       0\n",
       "subject_type                  0\n",
       "course_type                   0\n",
       "course_start_date             0\n",
       "student_id                    0\n",
       "student_last_name             0\n",
       "city                          0\n",
       "is_active                     0\n",
       "course_created_at             0\n",
       "full_months_access           15\n",
       "completed_homeworks_count     0\n",
       "dtype: int64"
      ]
     },
     "execution_count": 221,
     "metadata": {},
     "output_type": "execute_result"
    }
   ],
   "source": [
    "df.isnull().sum()"
   ]
  },
  {
   "cell_type": "markdown",
   "id": "0eb7c65a",
   "metadata": {},
   "source": [
    "Видно, что присутствуют большое количество NULL-значений в столбце full_months_access"
   ]
  },
  {
   "cell_type": "code",
   "execution_count": 222,
   "id": "ea974ccc",
   "metadata": {},
   "outputs": [
    {
     "data": {
      "text/plain": [
       "course_id                      int64\n",
       "course_name                   object\n",
       "subject                       object\n",
       "subject_type                  object\n",
       "course_type                   object\n",
       "course_start_date             object\n",
       "student_id                     int64\n",
       "student_last_name             object\n",
       "city                          object\n",
       "is_active                     object\n",
       "course_created_at             object\n",
       "full_months_access           float64\n",
       "completed_homeworks_count      int64\n",
       "dtype: object"
      ]
     },
     "execution_count": 222,
     "metadata": {},
     "output_type": "execute_result"
    }
   ],
   "source": [
    "df.dtypes"
   ]
  },
  {
   "cell_type": "markdown",
   "id": "2e0bceba",
   "metadata": {},
   "source": [
    "Числовые столбцы: course_id, student_id, full_months_access, completed_homeworks_count\n",
    "Строковые значения: course_name, subject, subject_type, course_type, course_start_date, student_last_name, city, is_active\n"
   ]
  },
  {
   "cell_type": "code",
   "execution_count": 223,
   "id": "be7a5dd7",
   "metadata": {},
   "outputs": [
    {
     "data": {
      "text/plain": [
       "array([ 2.,  1.,  0.,  3.,  9., 10.,  6., nan,  8.,  4.,  5.,  7.])"
      ]
     },
     "execution_count": 223,
     "metadata": {},
     "output_type": "execute_result"
    }
   ],
   "source": [
    "df['full_months_access'].unique()"
   ]
  },
  {
   "cell_type": "code",
   "execution_count": 224,
   "id": "eb550714",
   "metadata": {},
   "outputs": [],
   "source": [
    "df = df.dropna(subset=['full_months_access'])"
   ]
  },
  {
   "cell_type": "code",
   "execution_count": 225,
   "id": "d52382c5",
   "metadata": {},
   "outputs": [
    {
     "data": {
      "text/plain": [
       "course_id                    0\n",
       "course_name                  0\n",
       "subject                      0\n",
       "subject_type                 0\n",
       "course_type                  0\n",
       "course_start_date            0\n",
       "student_id                   0\n",
       "student_last_name            0\n",
       "city                         0\n",
       "is_active                    0\n",
       "course_created_at            0\n",
       "full_months_access           0\n",
       "completed_homeworks_count    0\n",
       "dtype: int64"
      ]
     },
     "execution_count": 225,
     "metadata": {},
     "output_type": "execute_result"
    }
   ],
   "source": [
    "df.isnull().sum()"
   ]
  },
  {
   "cell_type": "code",
   "execution_count": 226,
   "id": "ef87b77a",
   "metadata": {},
   "outputs": [],
   "source": [
    "df['full_months_access'] = df['full_months_access'].astype(int)"
   ]
  },
  {
   "cell_type": "markdown",
   "id": "93615017",
   "metadata": {},
   "source": [
    "Удаляем Null-значения в столбце full_months_access, так как их незначительное количество, и переводим в integer"
   ]
  },
  {
   "cell_type": "code",
   "execution_count": 227,
   "id": "f1a2c2ca",
   "metadata": {},
   "outputs": [
    {
     "name": "stdout",
     "output_type": "stream",
     "text": [
      "<class 'pandas.core.frame.DataFrame'>\n",
      "Index: 5370 entries, 0 to 5384\n",
      "Data columns (total 13 columns):\n",
      " #   Column                     Non-Null Count  Dtype \n",
      "---  ------                     --------------  ----- \n",
      " 0   course_id                  5370 non-null   int64 \n",
      " 1   course_name                5370 non-null   object\n",
      " 2   subject                    5370 non-null   object\n",
      " 3   subject_type               5370 non-null   object\n",
      " 4   course_type                5370 non-null   object\n",
      " 5   course_start_date          5370 non-null   object\n",
      " 6   student_id                 5370 non-null   int64 \n",
      " 7   student_last_name          5370 non-null   object\n",
      " 8   city                       5370 non-null   object\n",
      " 9   is_active                  5370 non-null   object\n",
      " 10  course_created_at          5370 non-null   object\n",
      " 11  full_months_access         5370 non-null   int64 \n",
      " 12  completed_homeworks_count  5370 non-null   int64 \n",
      "dtypes: int64(4), object(9)\n",
      "memory usage: 587.3+ KB\n"
     ]
    }
   ],
   "source": [
    "df.info()"
   ]
  },
  {
   "cell_type": "code",
   "execution_count": 228,
   "id": "7f84a32c",
   "metadata": {},
   "outputs": [
    {
     "data": {
      "text/plain": [
       "course_id                    0\n",
       "course_name                  0\n",
       "subject                      0\n",
       "subject_type                 0\n",
       "course_type                  0\n",
       "course_start_date            0\n",
       "student_id                   0\n",
       "student_last_name            0\n",
       "city                         0\n",
       "is_active                    0\n",
       "course_created_at            0\n",
       "full_months_access           0\n",
       "completed_homeworks_count    0\n",
       "dtype: int64"
      ]
     },
     "execution_count": 228,
     "metadata": {},
     "output_type": "execute_result"
    }
   ],
   "source": [
    "df.isnull().sum()"
   ]
  },
  {
   "cell_type": "code",
   "execution_count": 229,
   "id": "83c9eedf",
   "metadata": {},
   "outputs": [
    {
     "data": {
      "image/png": "[encoded data removed]",
      "text/plain": [
       "<Figure size 1200x800 with 2 Axes>"
      ]
     },
     "metadata": {},
     "output_type": "display_data"
    }
   ],
   "source": [
    "df[['full_months_access', 'completed_homeworks_count']].hist(bins=40, figsize=(12, 8))\n",
    "plt.show()\n"
   ]
  },
  {
   "cell_type": "code",
   "execution_count": 230,
   "id": "8c303164",
   "metadata": {},
   "outputs": [
    {
     "data": {
      "image/png": "[encoded data removed]",
      "text/plain": [
       "<Figure size 640x480 with 1 Axes>"
      ]
     },
     "metadata": {},
     "output_type": "display_data"
    }
   ],
   "source": [
    "plt.boxplot(x = df[['full_months_access', 'completed_homeworks_count']], tick_labels = ['full_months_access', 'completed_homeworks_count'])\n",
    "plt.grid(True)\n",
    "plt.show()"
   ]
  },
  {
   "cell_type": "code",
   "execution_count": 231,
   "id": "fc2556f2",
   "metadata": {},
   "outputs": [
    {
     "name": "stdout",
     "output_type": "stream",
     "text": [
      "count    5370.000000\n",
      "mean        2.216574\n",
      "std         1.722136\n",
      "min         0.000000\n",
      "25%         2.000000\n",
      "50%         2.000000\n",
      "75%         2.000000\n",
      "max        10.000000\n",
      "Name: full_months_access, dtype: float64\n",
      "course_id  course_name            subject  subject_type  course_type  course_start_date  student_id  student_last_name  city        is_active  course_created_at    full_months_access  completed_homeworks_count\n",
      "19         Годовой 2к25 стандарт  Русский  ЕГЭ           Годовой      2024-09-21         10088       Ваулина            Шебекино    Да         2024-09-26 19:36:24  10                  14                           1\n",
      "21         Годовой 2к25 стандарт  Химия    ЕГЭ           Годовой      2024-09-16         28027       Баландина          Красноярск  Да         2024-09-23 15:58:54  10                  9                            1\n",
      "Name: count, dtype: int64\n"
     ]
    }
   ],
   "source": [
    "print(df['full_months_access'].describe())\n",
    "print(df[df['full_months_access'] > 9].value_counts().sort_index())"
   ]
  },
  {
   "cell_type": "code",
   "execution_count": 232,
   "id": "2e476433",
   "metadata": {},
   "outputs": [
    {
     "name": "stdout",
     "output_type": "stream",
     "text": [
      "count    5370.00000\n",
      "mean       10.31676\n",
      "std         6.92592\n",
      "min         0.00000\n",
      "25%         5.00000\n",
      "50%        10.00000\n",
      "75%        15.00000\n",
      "max        34.00000\n",
      "Name: completed_homeworks_count, dtype: float64\n",
      "course_id  course_name            subject          subject_type  course_type  course_start_date  student_id  student_last_name  city             is_active  course_created_at    full_months_access  completed_homeworks_count\n",
      "17         Годовой 2к25 стандарт  Английский язык  ЕГЭ           Годовой      2024-09-20         10191       Шарикова           Санкт-Петербург  Да         2024-08-12 17:54:44  2                   34                           1\n",
      "                                                                                                 10505       Рифовна            Белорецк         Да         2024-08-31 19:06:59  3                   34                           1\n",
      "                                                                                                 10906       Никогосян          Яхрома           Да         2024-08-06 08:48:41  3                   34                           1\n",
      "                                                                                                 25632       Миронова           Норильск         Да         2024-09-17 10:25:43  2                   34                           1\n",
      "                                                                                                 25757       Черемисинова       Екатеринбург     Да         2024-09-18 10:27:02  3                   34                           1\n",
      "                                                                                                 25894       Ильина             Ижевск           Да         2024-09-18 09:50:19  3                   34                           1\n",
      "                                                                                                 28618       Шумайлова          Пермь            Да         2024-09-25 17:36:09  2                   34                           1\n",
      "                                                                                                 28919       Лебедева           Нижний Новгород  Да         2024-09-27 06:59:58  2                   34                           1\n",
      "57         Годовой 2к25 платинум  Английский язык  ЕГЭ           Годовой      2024-09-20         28625       Хикканова          Москва           Да         2024-09-25 17:22:28  2                   34                           1\n",
      "Name: count, dtype: int64\n"
     ]
    }
   ],
   "source": [
    "print(df['completed_homeworks_count'].describe())\n",
    "print(df[df['completed_homeworks_count'] > 33].value_counts().sort_index())"
   ]
  },
  {
   "cell_type": "markdown",
   "id": "a4dbabe5",
   "metadata": {},
   "source": [
    "Аномальные числовые значения не наблюдаются"
   ]
  },
  {
   "cell_type": "code",
   "execution_count": 233,
   "id": "16a8c65d",
   "metadata": {},
   "outputs": [
    {
     "data": {
      "text/plain": [
       "course_name\n",
       "Годовой 2к25 стандарт                                              4184\n",
       "Годовой курс 2к25                                                   487\n",
       "Годовой 2К25 стандарт с Машей                                       380\n",
       "В погоне за пятеркой 2К25 стандарт                                  167\n",
       "Годовой 2К25 стандарт с Катей                                       108\n",
       "Годовой 2к25 платинум                                                29\n",
       "Годовой курс 2к25 комбо (русский + обществознание + математика)      11\n",
       "Годовой 2к25 минимал                                                  4\n",
       "Name: count, dtype: int64"
      ]
     },
     "execution_count": 233,
     "metadata": {},
     "output_type": "execute_result"
    }
   ],
   "source": [
    "df['course_name'].value_counts()"
   ]
  },
  {
   "cell_type": "markdown",
   "id": "6980901c",
   "metadata": {},
   "source": [
    "Аномальных значений нет"
   ]
  },
  {
   "cell_type": "code",
   "execution_count": 234,
   "id": "4b61d3ea",
   "metadata": {},
   "outputs": [
    {
     "data": {
      "text/plain": [
       "subject\n",
       "Обществознание        1668\n",
       "Русский                865\n",
       "Математика             488\n",
       "Литература             427\n",
       "Английский язык        397\n",
       "История                356\n",
       "Биология               271\n",
       "Математика (база)      167\n",
       "Обществознание ОГЭ     166\n",
       "Математика ОГЭ         151\n",
       "Русский ОГЭ            133\n",
       "Химия                  129\n",
       "Физика                 104\n",
       "Биология ОГЭ            48\n",
       "Name: count, dtype: int64"
      ]
     },
     "execution_count": 234,
     "metadata": {},
     "output_type": "execute_result"
    }
   ],
   "source": [
    "df['subject'].value_counts()"
   ]
  },
  {
   "cell_type": "markdown",
   "id": "30899994",
   "metadata": {},
   "source": [
    "Странно что у некоторых предметов в название присутствуют ОГЭ, это информация о типе предмета должна храниться в столбце subject_type"
   ]
  },
  {
   "cell_type": "code",
   "execution_count": 235,
   "id": "4d987725",
   "metadata": {},
   "outputs": [
    {
     "data": {
      "text/plain": [
       "subject_type\n",
       "ЕГЭ    4872\n",
       "ОГЭ     498\n",
       "Name: count, dtype: int64"
      ]
     },
     "execution_count": 235,
     "metadata": {},
     "output_type": "execute_result"
    }
   ],
   "source": [
    "df['subject_type'].value_counts()"
   ]
  },
  {
   "cell_type": "markdown",
   "id": "869f2d77",
   "metadata": {},
   "source": [
    "Аномальных значений нет"
   ]
  },
  {
   "cell_type": "code",
   "execution_count": 236,
   "id": "0af34461",
   "metadata": {},
   "outputs": [
    {
     "data": {
      "text/plain": [
       "course_type\n",
       "Годовой    5370\n",
       "Name: count, dtype: int64"
      ]
     },
     "execution_count": 236,
     "metadata": {},
     "output_type": "execute_result"
    }
   ],
   "source": [
    "df['course_type'].value_counts()"
   ]
  },
  {
   "cell_type": "markdown",
   "id": "d8e7c7a5",
   "metadata": {},
   "source": [
    "Аномальных значений нет"
   ]
  },
  {
   "cell_type": "code",
   "execution_count": 237,
   "id": "b6addc5d",
   "metadata": {},
   "outputs": [
    {
     "data": {
      "text/plain": [
       "student_last_name\n",
       "Максимова    25\n",
       "Иванова      24\n",
       "Петрова      24\n",
       "Кузнецова    23\n",
       "Смирнова     13\n",
       "             ..\n",
       "Воронова      1\n",
       "Прокошева     1\n",
       "Панфилова     1\n",
       "Verner        1\n",
       "Чурина        1\n",
       "Name: count, Length: 2712, dtype: int64"
      ]
     },
     "execution_count": 237,
     "metadata": {},
     "output_type": "execute_result"
    }
   ],
   "source": [
    "df['student_last_name'].value_counts()"
   ]
  },
  {
   "cell_type": "code",
   "execution_count": 238,
   "id": "3254abae",
   "metadata": {},
   "outputs": [
    {
     "name": "stdout",
     "output_type": "stream",
     "text": [
      "count    5370.000000\n",
      "mean        7.845996\n",
      "std         1.951910\n",
      "min         1.000000\n",
      "25%         7.000000\n",
      "50%         8.000000\n",
      "75%         9.000000\n",
      "max        20.000000\n",
      "Name: student_last_name, dtype: float64\n",
      "\n",
      "Фамилии с нестандартными символами:\n",
      " ['Markova' 'Kesian' 'Ki' 'Sheina' 'Abdulaeva' 'Gold' 'Fox' 'Voskanyan'\n",
      " 'Ankha' 'Alexandrova' 'Semendyaeva' 'Andre' 'Nurmagomedova' 'Markaryan'\n",
      " 'Loskutova' 'Perhova' 'Gabuev' 'Kiriianova' 'Hasbolatova' 'Anisimova'\n",
      " 'Koo' 'Osaulenko' 'Nuta' 'Fakhretdinova' 'Abovyan' 'Vinas' 'Nastiaa'\n",
      " 'Mysova' 'Saidismoilova' 'Saidibroimov' 'Getmanova' 'Tkacheva' 'Dragon'\n",
      " 'Uiuuuu' 'Sab' 'Cheese' 'Yun' 'Safina' 'Or' 'Sokolov' 'Kien' 'Shevtsova'\n",
      " 'Chakhmakhchyan' 'Wwnv' 'Fly' 'Vart' 'Arustamyan' 'Korchynskaya' 'Rakhm'\n",
      " 'Shevchenko' 'Golikova' 'A' 'Karokurt' 'Zharova' 'Mironovskaya' 'Kazina'\n",
      " 'Shilenko' 'Tatiana' 'VuyS' 'Kkkk' 'Guzik' 'Alone' 'Zinoveva'\n",
      " 'Procopieva' 'V' 'Zainagabdinova' 'Petrosyan' 'Neyaskina' 'Busova'\n",
      " 'Gavre' 'Vinnik' 'You' 'Fodeeva' 'Nam' 'Miller' 'Winchester' 'Bogdanova'\n",
      " 'Musina' 'Paskov' 'Sweet' 'Samogon' 'Kutaeva' 'Sadokho' 'Meow'\n",
      " 'Porpyleva' 'Pogorelov' 'Rosich' 'Bahng' 'Ryazantseva' 'Skm' 'Vishneva'\n",
      " 'Omr' 'Imasheva' 'Mamedova' 'Ktoon' 'Pismarkina' 'Koroleva' 'Portnyagina'\n",
      " 'Grigoryan' 'Kuprieva' 'Xim' 'Milyaeva' 'Ponomarev' 'Son' 'T' 'Medvedeva'\n",
      " 'Leonidovna' 'Sintschjenko' 'Chernova' 'Skodastreetracing' 'Turta'\n",
      " 'Orleanskaya' 'Volodina' 'Aix' 'Michh' 'Kyrdoglo' 'Sofo'\n",
      " 'Thewayiseethings' 'Ivanova' 'Levchaev' 'Guschev' 'Family' 'Metchaeva'\n",
      " 'Cartier' 'Sot' 'Chukhno' 'Nya' 'Nguyen' 'Muratova' 'Parshina'\n",
      " 'Khudashova' 'Zinchuk' 'Ww' 'Ovanesovna' 'Lobova' 'Finaev' 'Sheverdova'\n",
      " 'Myshkin' 'Mayklson' 'Guskova' 'Khismatullina' 'Halyavina' 'Konstantinov'\n",
      " 'Shushkova' 'Aleksandrovna' 'Homidova' 'Bochkova' 'Wd' 'Nikolaevna'\n",
      " 'Myau' 'Megi' 'Maksimovna' 'Pshenova' 'May' 'Usenova' 'Jzetovich'\n",
      " 'Korsukova' 'Va' 'Frolova' 'Akhmedova' 'Filippova' 'Vi' 'Pizdodelov'\n",
      " 'Pastukhov' 'Fazilova' 'Danilina' 'Ho' 'Bang' 'Loring' 'Amnw' 'Shmakova'\n",
      " 'Novikova' 'Frr' 'Stadnikova' 'Starbite' 'Wheel' 'Erohov' 'Co'\n",
      " 'Pushkareva' 'Yurgens' 'Winx' 'Evgraf' 'Vladimirovna' 'Taylor'\n",
      " 'Almazovna' 'Tal' 'Aleshina' 'Ssvyrcg' 'Aleks' 'Panteleeva' 'Karelina'\n",
      " 'Podatnova' 'Bulgakova' 'Christian' 'Artemova' 'Bro' 'Pshenichnikova'\n",
      " 'Potapova' 'Doroshenko' 'God' 'Astrova' 'Nyasha' 'Zakh' 'Gachechiladze'\n",
      " 'Z' 'Reut' 'Agazade' 'Ailasova' 'Name' 'Reizova' 'Crimson' 'Aymi' 'Sliva'\n",
      " 'Predadora' 'Yankovskaya' 'Tim' 'Atokurieta' 'Andreeva' 'Bugrov'\n",
      " 'Vivienne' 'Egorikov' 'Eliss' 'Li' 'Inthemoonlight' 'Pavlovna' 'Overlord'\n",
      " 'J' 'Khachatryan' 'Karasaeva' 'Lna' 'G' 'S' 'Haff' 'Chicareva'\n",
      " 'Thatisapproaching' 'Khitrenko' 'Siittaa' 'Spiridonova' 'Mikhailova'\n",
      " 'Levchenko' 'Sofia' 'Mert' 'Mol' 'Udtdtdt' 'Hwang' 'Fatykhova' 'Visk'\n",
      " 'Nekrasova' 'Nagisa' 'Vestese' 'Kins' 'Makeycheva' 'Myden'\n",
      " 'Shparkovskaya' 'Diliara' 'Tsyvareva' 'Barsova' 'Abramyan' 'Zhikhareva'\n",
      " 'Nepon' 'Koma' 'Margiela' 'Karnak' 'Yusupova' 'Matveeva' 'Sharov'\n",
      " 'Rakova' 'Dasha' 'Andreevna' 'Lazuli' 'Airian' 'Kovalik' 'Bars' 'Fist'\n",
      " 'Siren' 'Ketoeva' 'Pivovarova' 'Doronenko' 'Malarova' 'Www' 'Grey'\n",
      " 'Kovner' 'Gaynutdinov' 'Goldina' 'Glyatsevich' 'Prokopeva' 'Grishaeva'\n",
      " 'Egoraeva' 'Bakuta' 'Park' 'Parolitsch' 'Ruslanovna' 'Smolich'\n",
      " 'Denisovna' 'Zemtsovskaya' 'Novoselova' 'Khalturina' 'Stiper' 'Pestereva'\n",
      " 'Bzaubakova' 'Kuznetsova' 'Sarkulova' 'Dinosaurs' 'Safonova' 'Tsysaruk'\n",
      " 'Krasner' 'Menergizer' 'Kadochnikova' 'Verner' 'Blades' 'Azumane']\n",
      "\n",
      "Фамилии с аномальной длиной:\n",
      " ['A' 'V' 'Шыхбайтандырзолевхов' 'T' 'Х' 'Z' 'К' 'J' 'G' 'S']\n",
      "\n",
      "Числовые Фамилии:\n",
      " []\n"
     ]
    }
   ],
   "source": [
    "print(df['student_last_name'].str.len().describe())\n",
    "\n",
    "non_alpha_cities = df[df['student_last_name'].str.contains(r'[^а-яА-ЯёЁ\\- ]', regex=True, na=False)]\n",
    "print(\"\\nФамилии с нестандартными символами:\\n\", non_alpha_cities['student_last_name'].unique())\n",
    "\n",
    "abnormal_length = df[(df['student_last_name'].str.len() < 2) | (df['student_last_name'].str.len() > 19)]\n",
    "print(\"\\nФамилии с аномальной длиной:\\n\", abnormal_length['student_last_name'].unique())\n",
    "\n",
    "numeric_cities = df[df['student_last_name'].str.match(r'^\\d+$', na=False)]\n",
    "print(\"\\nЧисловые Фамилии:\\n\", numeric_cities['student_last_name'].unique())"
   ]
  },
  {
   "cell_type": "code",
   "execution_count": 239,
   "id": "df7a9be1",
   "metadata": {},
   "outputs": [
    {
     "data": {
      "text/plain": [
       "city\n",
       "Москва             754\n",
       "Санкт-Петербург    190\n",
       "Казань             106\n",
       "Краснодар          104\n",
       "Новосибирск         87\n",
       "                  ... \n",
       "Семикаракорск        1\n",
       "Медногорск           1\n",
       "Вязьма               1\n",
       "Верхний Уфалей       1\n",
       "Шумерля              1\n",
       "Name: count, Length: 575, dtype: int64"
      ]
     },
     "execution_count": 239,
     "metadata": {},
     "output_type": "execute_result"
    }
   ],
   "source": [
    "df['city'].value_counts()"
   ]
  },
  {
   "cell_type": "code",
   "execution_count": 240,
   "id": "dff4ff62",
   "metadata": {},
   "outputs": [
    {
     "name": "stdout",
     "output_type": "stream",
     "text": [
      "count    5370.000000\n",
      "mean        8.222346\n",
      "std         3.124370\n",
      "min         3.000000\n",
      "25%         6.000000\n",
      "50%         7.000000\n",
      "75%        10.000000\n",
      "max        28.000000\n",
      "Name: city, dtype: float64\n",
      "\n",
      "Города с нестандартными символами:\n",
      " ['Снежное\\r' 'Макеевка\\r' 'Донецк\\r' 'Мариуполь\\r' 'Ровеньки\\r'\n",
      " 'Бердянск\\r' 'Краснодон\\r']\n",
      "\n",
      "Города с аномальной длиной:\n",
      " ['Республика Дагестанские Огни']\n",
      "\n",
      "Числовые города:\n",
      " []\n"
     ]
    }
   ],
   "source": [
    "print(df['city'].str.len().describe())\n",
    "\n",
    "non_alpha_cities = df[df['city'].str.contains(r'[^а-яА-ЯёЁ\\- ]', regex=True, na=False)]\n",
    "print(\"\\nГорода с нестандартными символами:\\n\", non_alpha_cities['city'].unique())\n",
    "\n",
    "abnormal_length = df[(df['city'].str.len() < 3) | (df['city'].str.len() > 27)]\n",
    "print(\"\\nГорода с аномальной длиной:\\n\", abnormal_length['city'].unique())\n",
    "\n",
    "numeric_cities = df[df['city'].str.match(r'^\\d+$', na=False)]\n",
    "print(\"\\nЧисловые города:\\n\", numeric_cities['city'].unique())"
   ]
  },
  {
   "cell_type": "code",
   "execution_count": 241,
   "id": "dea3968e",
   "metadata": {},
   "outputs": [
    {
     "data": {
      "text/plain": [
       "is_active\n",
       "Да     5066\n",
       "Нет     304\n",
       "Name: count, dtype: int64"
      ]
     },
     "execution_count": 241,
     "metadata": {},
     "output_type": "execute_result"
    }
   ],
   "source": [
    "df['is_active'].value_counts() "
   ]
  },
  {
   "cell_type": "markdown",
   "id": "9957773f",
   "metadata": {},
   "source": [
    "Аномальных значений нет"
   ]
  },
  {
   "cell_type": "markdown",
   "id": "2f3faa1c",
   "metadata": {},
   "source": [
    "# 2. Деление на волны"
   ]
  },
  {
   "cell_type": "code",
   "execution_count": 242,
   "id": "baff45b2",
   "metadata": {},
   "outputs": [
    {
     "data": {
      "text/html": [
       "<div>\n",
       "<style scoped>\n",
       "    .dataframe tbody tr th:only-of-type {\n",
       "        vertical-align: middle;\n",
       "    }\n",
       "\n",
       "    .dataframe tbody tr th {\n",
       "        vertical-align: top;\n",
       "    }\n",
       "\n",
       "    .dataframe thead th {\n",
       "        text-align: right;\n",
       "    }\n",
       "</style>\n",
       "<table border=\"1\" class=\"dataframe\">\n",
       "  <thead>\n",
       "    <tr style=\"text-align: right;\">\n",
       "      <th></th>\n",
       "      <th>course_id</th>\n",
       "      <th>course_name</th>\n",
       "      <th>subject</th>\n",
       "      <th>subject_type</th>\n",
       "      <th>course_type</th>\n",
       "      <th>course_start_date</th>\n",
       "      <th>student_id</th>\n",
       "      <th>student_last_name</th>\n",
       "      <th>city</th>\n",
       "      <th>is_active</th>\n",
       "      <th>course_created_at</th>\n",
       "      <th>full_months_access</th>\n",
       "      <th>completed_homeworks_count</th>\n",
       "    </tr>\n",
       "  </thead>\n",
       "  <tbody>\n",
       "    <tr>\n",
       "      <th>0</th>\n",
       "      <td>16</td>\n",
       "      <td>Годовой 2к25 стандарт</td>\n",
       "      <td>Обществознание</td>\n",
       "      <td>ЕГЭ</td>\n",
       "      <td>Годовой</td>\n",
       "      <td>2024-09-16</td>\n",
       "      <td>10001</td>\n",
       "      <td>Markova</td>\n",
       "      <td>Самара</td>\n",
       "      <td>Да</td>\n",
       "      <td>2024-07-25 18:04:20</td>\n",
       "      <td>2</td>\n",
       "      <td>10</td>\n",
       "    </tr>\n",
       "    <tr>\n",
       "      <th>1</th>\n",
       "      <td>19</td>\n",
       "      <td>Годовой 2к25 стандарт</td>\n",
       "      <td>Русский</td>\n",
       "      <td>ЕГЭ</td>\n",
       "      <td>Годовой</td>\n",
       "      <td>2024-09-21</td>\n",
       "      <td>10001</td>\n",
       "      <td>Markova</td>\n",
       "      <td>Самара</td>\n",
       "      <td>Да</td>\n",
       "      <td>2024-07-25 18:04:20</td>\n",
       "      <td>2</td>\n",
       "      <td>9</td>\n",
       "    </tr>\n",
       "    <tr>\n",
       "      <th>2</th>\n",
       "      <td>24</td>\n",
       "      <td>В погоне за пятеркой 2К25 стандарт</td>\n",
       "      <td>Математика (база)</td>\n",
       "      <td>ЕГЭ</td>\n",
       "      <td>Годовой</td>\n",
       "      <td>2024-09-17</td>\n",
       "      <td>10001</td>\n",
       "      <td>Markova</td>\n",
       "      <td>Самара</td>\n",
       "      <td>Да</td>\n",
       "      <td>2024-09-01 07:49:22</td>\n",
       "      <td>2</td>\n",
       "      <td>3</td>\n",
       "    </tr>\n",
       "    <tr>\n",
       "      <th>3</th>\n",
       "      <td>19</td>\n",
       "      <td>Годовой 2к25 стандарт</td>\n",
       "      <td>Русский</td>\n",
       "      <td>ЕГЭ</td>\n",
       "      <td>Годовой</td>\n",
       "      <td>2024-09-21</td>\n",
       "      <td>10002</td>\n",
       "      <td>Коваленко</td>\n",
       "      <td>Москва</td>\n",
       "      <td>Нет</td>\n",
       "      <td>2024-07-25 18:07:04</td>\n",
       "      <td>1</td>\n",
       "      <td>5</td>\n",
       "    </tr>\n",
       "    <tr>\n",
       "      <th>4</th>\n",
       "      <td>21</td>\n",
       "      <td>Годовой 2к25 стандарт</td>\n",
       "      <td>Химия</td>\n",
       "      <td>ЕГЭ</td>\n",
       "      <td>Годовой</td>\n",
       "      <td>2024-09-16</td>\n",
       "      <td>10005</td>\n",
       "      <td>Гусев</td>\n",
       "      <td>Белгород</td>\n",
       "      <td>Да</td>\n",
       "      <td>2024-07-26 05:38:40</td>\n",
       "      <td>1</td>\n",
       "      <td>1</td>\n",
       "    </tr>\n",
       "    <tr>\n",
       "      <th>5</th>\n",
       "      <td>25</td>\n",
       "      <td>Годовой 2к25 стандарт</td>\n",
       "      <td>Биология</td>\n",
       "      <td>ЕГЭ</td>\n",
       "      <td>Годовой</td>\n",
       "      <td>2024-09-17</td>\n",
       "      <td>10005</td>\n",
       "      <td>Гусев</td>\n",
       "      <td>Белгород</td>\n",
       "      <td>Да</td>\n",
       "      <td>2024-07-26 05:38:48</td>\n",
       "      <td>1</td>\n",
       "      <td>1</td>\n",
       "    </tr>\n",
       "    <tr>\n",
       "      <th>6</th>\n",
       "      <td>16</td>\n",
       "      <td>Годовой 2к25 стандарт</td>\n",
       "      <td>Обществознание</td>\n",
       "      <td>ЕГЭ</td>\n",
       "      <td>Годовой</td>\n",
       "      <td>2024-09-16</td>\n",
       "      <td>10006</td>\n",
       "      <td>Пушкина</td>\n",
       "      <td>Москва</td>\n",
       "      <td>Да</td>\n",
       "      <td>2024-07-25 18:48:31</td>\n",
       "      <td>2</td>\n",
       "      <td>17</td>\n",
       "    </tr>\n",
       "    <tr>\n",
       "      <th>7</th>\n",
       "      <td>16</td>\n",
       "      <td>Годовой 2к25 стандарт</td>\n",
       "      <td>Обществознание</td>\n",
       "      <td>ЕГЭ</td>\n",
       "      <td>Годовой</td>\n",
       "      <td>2024-09-16</td>\n",
       "      <td>10009</td>\n",
       "      <td>Чернобель</td>\n",
       "      <td>Минеральные Воды</td>\n",
       "      <td>Да</td>\n",
       "      <td>2024-07-26 06:05:09</td>\n",
       "      <td>2</td>\n",
       "      <td>16</td>\n",
       "    </tr>\n",
       "    <tr>\n",
       "      <th>8</th>\n",
       "      <td>16</td>\n",
       "      <td>Годовой 2к25 стандарт</td>\n",
       "      <td>Обществознание</td>\n",
       "      <td>ЕГЭ</td>\n",
       "      <td>Годовой</td>\n",
       "      <td>2024-09-16</td>\n",
       "      <td>10010</td>\n",
       "      <td>Мирзоян</td>\n",
       "      <td>Якутск</td>\n",
       "      <td>Да</td>\n",
       "      <td>2024-07-26 11:35:32</td>\n",
       "      <td>2</td>\n",
       "      <td>15</td>\n",
       "    </tr>\n",
       "    <tr>\n",
       "      <th>9</th>\n",
       "      <td>18</td>\n",
       "      <td>Годовой 2к25 стандарт</td>\n",
       "      <td>История</td>\n",
       "      <td>ЕГЭ</td>\n",
       "      <td>Годовой</td>\n",
       "      <td>2024-09-18</td>\n",
       "      <td>10010</td>\n",
       "      <td>Мирзоян</td>\n",
       "      <td>Якутск</td>\n",
       "      <td>Да</td>\n",
       "      <td>2024-07-26 11:35:32</td>\n",
       "      <td>2</td>\n",
       "      <td>15</td>\n",
       "    </tr>\n",
       "  </tbody>\n",
       "</table>\n",
       "</div>"
      ],
      "text/plain": [
       "   course_id                         course_name            subject  \\\n",
       "0         16               Годовой 2к25 стандарт     Обществознание   \n",
       "1         19               Годовой 2к25 стандарт            Русский   \n",
       "2         24  В погоне за пятеркой 2К25 стандарт  Математика (база)   \n",
       "3         19               Годовой 2к25 стандарт            Русский   \n",
       "4         21               Годовой 2к25 стандарт              Химия   \n",
       "5         25               Годовой 2к25 стандарт           Биология   \n",
       "6         16               Годовой 2к25 стандарт     Обществознание   \n",
       "7         16               Годовой 2к25 стандарт     Обществознание   \n",
       "8         16               Годовой 2к25 стандарт     Обществознание   \n",
       "9         18               Годовой 2к25 стандарт            История   \n",
       "\n",
       "  subject_type course_type course_start_date  student_id student_last_name  \\\n",
       "0          ЕГЭ     Годовой        2024-09-16       10001           Markova   \n",
       "1          ЕГЭ     Годовой        2024-09-21       10001           Markova   \n",
       "2          ЕГЭ     Годовой        2024-09-17       10001           Markova   \n",
       "3          ЕГЭ     Годовой        2024-09-21       10002         Коваленко   \n",
       "4          ЕГЭ     Годовой        2024-09-16       10005             Гусев   \n",
       "5          ЕГЭ     Годовой        2024-09-17       10005             Гусев   \n",
       "6          ЕГЭ     Годовой        2024-09-16       10006           Пушкина   \n",
       "7          ЕГЭ     Годовой        2024-09-16       10009         Чернобель   \n",
       "8          ЕГЭ     Годовой        2024-09-16       10010           Мирзоян   \n",
       "9          ЕГЭ     Годовой        2024-09-18       10010           Мирзоян   \n",
       "\n",
       "               city is_active    course_created_at  full_months_access  \\\n",
       "0            Самара        Да  2024-07-25 18:04:20                   2   \n",
       "1            Самара        Да  2024-07-25 18:04:20                   2   \n",
       "2            Самара        Да  2024-09-01 07:49:22                   2   \n",
       "3            Москва       Нет  2024-07-25 18:07:04                   1   \n",
       "4          Белгород        Да  2024-07-26 05:38:40                   1   \n",
       "5          Белгород        Да  2024-07-26 05:38:48                   1   \n",
       "6            Москва        Да  2024-07-25 18:48:31                   2   \n",
       "7  Минеральные Воды        Да  2024-07-26 06:05:09                   2   \n",
       "8            Якутск        Да  2024-07-26 11:35:32                   2   \n",
       "9            Якутск        Да  2024-07-26 11:35:32                   2   \n",
       "\n",
       "   completed_homeworks_count  \n",
       "0                         10  \n",
       "1                          9  \n",
       "2                          3  \n",
       "3                          5  \n",
       "4                          1  \n",
       "5                          1  \n",
       "6                         17  \n",
       "7                         16  \n",
       "8                         15  \n",
       "9                         15  "
      ]
     },
     "execution_count": 242,
     "metadata": {},
     "output_type": "execute_result"
    }
   ],
   "source": [
    "df.head(10)"
   ]
  },
  {
   "cell_type": "markdown",
   "id": "7b193e7c",
   "metadata": {},
   "source": [
    "Преобразуем тип данных времени"
   ]
  },
  {
   "cell_type": "code",
   "execution_count": 243,
   "id": "371e92dc",
   "metadata": {},
   "outputs": [],
   "source": [
    "df['course_created_at'] = pd.to_datetime(df['course_created_at'])"
   ]
  },
  {
   "cell_type": "code",
   "execution_count": 244,
   "id": "5ba79c40",
   "metadata": {},
   "outputs": [],
   "source": [
    "df['course_start_date'] = pd.to_datetime(df['course_start_date'])"
   ]
  },
  {
   "cell_type": "code",
   "execution_count": 245,
   "id": "230e5437",
   "metadata": {},
   "outputs": [
    {
     "data": {
      "text/html": [
       "<div>\n",
       "<style scoped>\n",
       "    .dataframe tbody tr th:only-of-type {\n",
       "        vertical-align: middle;\n",
       "    }\n",
       "\n",
       "    .dataframe tbody tr th {\n",
       "        vertical-align: top;\n",
       "    }\n",
       "\n",
       "    .dataframe thead th {\n",
       "        text-align: right;\n",
       "    }\n",
       "</style>\n",
       "<table border=\"1\" class=\"dataframe\">\n",
       "  <thead>\n",
       "    <tr style=\"text-align: right;\">\n",
       "      <th></th>\n",
       "      <th>course_id</th>\n",
       "      <th>course_name</th>\n",
       "      <th>subject</th>\n",
       "      <th>subject_type</th>\n",
       "      <th>course_type</th>\n",
       "      <th>course_start_date</th>\n",
       "      <th>student_id</th>\n",
       "      <th>student_last_name</th>\n",
       "      <th>city</th>\n",
       "      <th>is_active</th>\n",
       "      <th>course_created_at</th>\n",
       "      <th>full_months_access</th>\n",
       "      <th>completed_homeworks_count</th>\n",
       "    </tr>\n",
       "  </thead>\n",
       "  <tbody>\n",
       "    <tr>\n",
       "      <th>0</th>\n",
       "      <td>16</td>\n",
       "      <td>Годовой 2к25 стандарт</td>\n",
       "      <td>Обществознание</td>\n",
       "      <td>ЕГЭ</td>\n",
       "      <td>Годовой</td>\n",
       "      <td>2024-09-16</td>\n",
       "      <td>10001</td>\n",
       "      <td>Markova</td>\n",
       "      <td>Самара</td>\n",
       "      <td>Да</td>\n",
       "      <td>2024-07-25 18:04:20</td>\n",
       "      <td>2</td>\n",
       "      <td>10</td>\n",
       "    </tr>\n",
       "    <tr>\n",
       "      <th>1</th>\n",
       "      <td>19</td>\n",
       "      <td>Годовой 2к25 стандарт</td>\n",
       "      <td>Русский</td>\n",
       "      <td>ЕГЭ</td>\n",
       "      <td>Годовой</td>\n",
       "      <td>2024-09-21</td>\n",
       "      <td>10001</td>\n",
       "      <td>Markova</td>\n",
       "      <td>Самара</td>\n",
       "      <td>Да</td>\n",
       "      <td>2024-07-25 18:04:20</td>\n",
       "      <td>2</td>\n",
       "      <td>9</td>\n",
       "    </tr>\n",
       "    <tr>\n",
       "      <th>2</th>\n",
       "      <td>24</td>\n",
       "      <td>В погоне за пятеркой 2К25 стандарт</td>\n",
       "      <td>Математика (база)</td>\n",
       "      <td>ЕГЭ</td>\n",
       "      <td>Годовой</td>\n",
       "      <td>2024-09-17</td>\n",
       "      <td>10001</td>\n",
       "      <td>Markova</td>\n",
       "      <td>Самара</td>\n",
       "      <td>Да</td>\n",
       "      <td>2024-09-01 07:49:22</td>\n",
       "      <td>2</td>\n",
       "      <td>3</td>\n",
       "    </tr>\n",
       "    <tr>\n",
       "      <th>3</th>\n",
       "      <td>19</td>\n",
       "      <td>Годовой 2к25 стандарт</td>\n",
       "      <td>Русский</td>\n",
       "      <td>ЕГЭ</td>\n",
       "      <td>Годовой</td>\n",
       "      <td>2024-09-21</td>\n",
       "      <td>10002</td>\n",
       "      <td>Коваленко</td>\n",
       "      <td>Москва</td>\n",
       "      <td>Нет</td>\n",
       "      <td>2024-07-25 18:07:04</td>\n",
       "      <td>1</td>\n",
       "      <td>5</td>\n",
       "    </tr>\n",
       "    <tr>\n",
       "      <th>4</th>\n",
       "      <td>21</td>\n",
       "      <td>Годовой 2к25 стандарт</td>\n",
       "      <td>Химия</td>\n",
       "      <td>ЕГЭ</td>\n",
       "      <td>Годовой</td>\n",
       "      <td>2024-09-16</td>\n",
       "      <td>10005</td>\n",
       "      <td>Гусев</td>\n",
       "      <td>Белгород</td>\n",
       "      <td>Да</td>\n",
       "      <td>2024-07-26 05:38:40</td>\n",
       "      <td>1</td>\n",
       "      <td>1</td>\n",
       "    </tr>\n",
       "  </tbody>\n",
       "</table>\n",
       "</div>"
      ],
      "text/plain": [
       "   course_id                         course_name            subject  \\\n",
       "0         16               Годовой 2к25 стандарт     Обществознание   \n",
       "1         19               Годовой 2к25 стандарт            Русский   \n",
       "2         24  В погоне за пятеркой 2К25 стандарт  Математика (база)   \n",
       "3         19               Годовой 2к25 стандарт            Русский   \n",
       "4         21               Годовой 2к25 стандарт              Химия   \n",
       "\n",
       "  subject_type course_type course_start_date  student_id student_last_name  \\\n",
       "0          ЕГЭ     Годовой        2024-09-16       10001           Markova   \n",
       "1          ЕГЭ     Годовой        2024-09-21       10001           Markova   \n",
       "2          ЕГЭ     Годовой        2024-09-17       10001           Markova   \n",
       "3          ЕГЭ     Годовой        2024-09-21       10002         Коваленко   \n",
       "4          ЕГЭ     Годовой        2024-09-16       10005             Гусев   \n",
       "\n",
       "       city is_active   course_created_at  full_months_access  \\\n",
       "0    Самара        Да 2024-07-25 18:04:20                   2   \n",
       "1    Самара        Да 2024-07-25 18:04:20                   2   \n",
       "2    Самара        Да 2024-09-01 07:49:22                   2   \n",
       "3    Москва       Нет 2024-07-25 18:07:04                   1   \n",
       "4  Белгород        Да 2024-07-26 05:38:40                   1   \n",
       "\n",
       "   completed_homeworks_count  \n",
       "0                         10  \n",
       "1                          9  \n",
       "2                          3  \n",
       "3                          5  \n",
       "4                          1  "
      ]
     },
     "execution_count": 245,
     "metadata": {},
     "output_type": "execute_result"
    }
   ],
   "source": [
    "df.head(5)"
   ]
  },
  {
   "cell_type": "code",
   "execution_count": 246,
   "id": "44772f8c",
   "metadata": {},
   "outputs": [
    {
     "name": "stdout",
     "output_type": "stream",
     "text": [
      "<class 'pandas.core.frame.DataFrame'>\n",
      "Index: 5370 entries, 0 to 5384\n",
      "Data columns (total 13 columns):\n",
      " #   Column                     Non-Null Count  Dtype         \n",
      "---  ------                     --------------  -----         \n",
      " 0   course_id                  5370 non-null   int64         \n",
      " 1   course_name                5370 non-null   object        \n",
      " 2   subject                    5370 non-null   object        \n",
      " 3   subject_type               5370 non-null   object        \n",
      " 4   course_type                5370 non-null   object        \n",
      " 5   course_start_date          5370 non-null   datetime64[ns]\n",
      " 6   student_id                 5370 non-null   int64         \n",
      " 7   student_last_name          5370 non-null   object        \n",
      " 8   city                       5370 non-null   object        \n",
      " 9   is_active                  5370 non-null   object        \n",
      " 10  course_created_at          5370 non-null   datetime64[ns]\n",
      " 11  full_months_access         5370 non-null   int64         \n",
      " 12  completed_homeworks_count  5370 non-null   int64         \n",
      "dtypes: datetime64[ns](2), int64(4), object(7)\n",
      "memory usage: 587.3+ KB\n"
     ]
    }
   ],
   "source": [
    "df.info()"
   ]
  },
  {
   "cell_type": "markdown",
   "id": "adae73e2",
   "metadata": {},
   "source": [
    "Функция для определения волны"
   ]
  },
  {
   "cell_type": "code",
   "execution_count": 247,
   "id": "dba07469",
   "metadata": {},
   "outputs": [],
   "source": [
    "def assign_wave(days_diff):\n",
    "    if days_diff <= 0:\n",
    "        return \"0 волна\"\n",
    "    elif 0 < days_diff <= 7:\n",
    "        return \"1 волна\"\n",
    "    elif 7 < days_diff <= 14:\n",
    "        return \"2 волна\"\n",
    "    elif 14 < days_diff <= 21:\n",
    "        return \"3 волна\"\n",
    "    elif 21 < days_diff <= 28:\n",
    "        return \"4 волна\"\n",
    "    else:\n",
    "        return \"5 волна\""
   ]
  },
  {
   "cell_type": "code",
   "execution_count": 248,
   "id": "aa564b12",
   "metadata": {},
   "outputs": [],
   "source": [
    "df['wave'] = (df['course_created_at'] - df['course_start_date']).dt.days.apply(assign_wave)"
   ]
  },
  {
   "cell_type": "code",
   "execution_count": 249,
   "id": "a688cd02",
   "metadata": {},
   "outputs": [
    {
     "data": {
      "text/html": [
       "<div>\n",
       "<style scoped>\n",
       "    .dataframe tbody tr th:only-of-type {\n",
       "        vertical-align: middle;\n",
       "    }\n",
       "\n",
       "    .dataframe tbody tr th {\n",
       "        vertical-align: top;\n",
       "    }\n",
       "\n",
       "    .dataframe thead th {\n",
       "        text-align: right;\n",
       "    }\n",
       "</style>\n",
       "<table border=\"1\" class=\"dataframe\">\n",
       "  <thead>\n",
       "    <tr style=\"text-align: right;\">\n",
       "      <th></th>\n",
       "      <th>course_id</th>\n",
       "      <th>course_name</th>\n",
       "      <th>subject</th>\n",
       "      <th>subject_type</th>\n",
       "      <th>course_type</th>\n",
       "      <th>course_start_date</th>\n",
       "      <th>student_id</th>\n",
       "      <th>student_last_name</th>\n",
       "      <th>city</th>\n",
       "      <th>is_active</th>\n",
       "      <th>course_created_at</th>\n",
       "      <th>full_months_access</th>\n",
       "      <th>completed_homeworks_count</th>\n",
       "      <th>wave</th>\n",
       "    </tr>\n",
       "  </thead>\n",
       "  <tbody>\n",
       "    <tr>\n",
       "      <th>0</th>\n",
       "      <td>16</td>\n",
       "      <td>Годовой 2к25 стандарт</td>\n",
       "      <td>Обществознание</td>\n",
       "      <td>ЕГЭ</td>\n",
       "      <td>Годовой</td>\n",
       "      <td>2024-09-16</td>\n",
       "      <td>10001</td>\n",
       "      <td>Markova</td>\n",
       "      <td>Самара</td>\n",
       "      <td>Да</td>\n",
       "      <td>2024-07-25 18:04:20</td>\n",
       "      <td>2</td>\n",
       "      <td>10</td>\n",
       "      <td>0 волна</td>\n",
       "    </tr>\n",
       "    <tr>\n",
       "      <th>1</th>\n",
       "      <td>19</td>\n",
       "      <td>Годовой 2к25 стандарт</td>\n",
       "      <td>Русский</td>\n",
       "      <td>ЕГЭ</td>\n",
       "      <td>Годовой</td>\n",
       "      <td>2024-09-21</td>\n",
       "      <td>10001</td>\n",
       "      <td>Markova</td>\n",
       "      <td>Самара</td>\n",
       "      <td>Да</td>\n",
       "      <td>2024-07-25 18:04:20</td>\n",
       "      <td>2</td>\n",
       "      <td>9</td>\n",
       "      <td>0 волна</td>\n",
       "    </tr>\n",
       "    <tr>\n",
       "      <th>2</th>\n",
       "      <td>24</td>\n",
       "      <td>В погоне за пятеркой 2К25 стандарт</td>\n",
       "      <td>Математика (база)</td>\n",
       "      <td>ЕГЭ</td>\n",
       "      <td>Годовой</td>\n",
       "      <td>2024-09-17</td>\n",
       "      <td>10001</td>\n",
       "      <td>Markova</td>\n",
       "      <td>Самара</td>\n",
       "      <td>Да</td>\n",
       "      <td>2024-09-01 07:49:22</td>\n",
       "      <td>2</td>\n",
       "      <td>3</td>\n",
       "      <td>0 волна</td>\n",
       "    </tr>\n",
       "    <tr>\n",
       "      <th>3</th>\n",
       "      <td>19</td>\n",
       "      <td>Годовой 2к25 стандарт</td>\n",
       "      <td>Русский</td>\n",
       "      <td>ЕГЭ</td>\n",
       "      <td>Годовой</td>\n",
       "      <td>2024-09-21</td>\n",
       "      <td>10002</td>\n",
       "      <td>Коваленко</td>\n",
       "      <td>Москва</td>\n",
       "      <td>Нет</td>\n",
       "      <td>2024-07-25 18:07:04</td>\n",
       "      <td>1</td>\n",
       "      <td>5</td>\n",
       "      <td>0 волна</td>\n",
       "    </tr>\n",
       "    <tr>\n",
       "      <th>4</th>\n",
       "      <td>21</td>\n",
       "      <td>Годовой 2к25 стандарт</td>\n",
       "      <td>Химия</td>\n",
       "      <td>ЕГЭ</td>\n",
       "      <td>Годовой</td>\n",
       "      <td>2024-09-16</td>\n",
       "      <td>10005</td>\n",
       "      <td>Гусев</td>\n",
       "      <td>Белгород</td>\n",
       "      <td>Да</td>\n",
       "      <td>2024-07-26 05:38:40</td>\n",
       "      <td>1</td>\n",
       "      <td>1</td>\n",
       "      <td>0 волна</td>\n",
       "    </tr>\n",
       "    <tr>\n",
       "      <th>5</th>\n",
       "      <td>25</td>\n",
       "      <td>Годовой 2к25 стандарт</td>\n",
       "      <td>Биология</td>\n",
       "      <td>ЕГЭ</td>\n",
       "      <td>Годовой</td>\n",
       "      <td>2024-09-17</td>\n",
       "      <td>10005</td>\n",
       "      <td>Гусев</td>\n",
       "      <td>Белгород</td>\n",
       "      <td>Да</td>\n",
       "      <td>2024-07-26 05:38:48</td>\n",
       "      <td>1</td>\n",
       "      <td>1</td>\n",
       "      <td>0 волна</td>\n",
       "    </tr>\n",
       "    <tr>\n",
       "      <th>6</th>\n",
       "      <td>16</td>\n",
       "      <td>Годовой 2к25 стандарт</td>\n",
       "      <td>Обществознание</td>\n",
       "      <td>ЕГЭ</td>\n",
       "      <td>Годовой</td>\n",
       "      <td>2024-09-16</td>\n",
       "      <td>10006</td>\n",
       "      <td>Пушкина</td>\n",
       "      <td>Москва</td>\n",
       "      <td>Да</td>\n",
       "      <td>2024-07-25 18:48:31</td>\n",
       "      <td>2</td>\n",
       "      <td>17</td>\n",
       "      <td>0 волна</td>\n",
       "    </tr>\n",
       "    <tr>\n",
       "      <th>7</th>\n",
       "      <td>16</td>\n",
       "      <td>Годовой 2к25 стандарт</td>\n",
       "      <td>Обществознание</td>\n",
       "      <td>ЕГЭ</td>\n",
       "      <td>Годовой</td>\n",
       "      <td>2024-09-16</td>\n",
       "      <td>10009</td>\n",
       "      <td>Чернобель</td>\n",
       "      <td>Минеральные Воды</td>\n",
       "      <td>Да</td>\n",
       "      <td>2024-07-26 06:05:09</td>\n",
       "      <td>2</td>\n",
       "      <td>16</td>\n",
       "      <td>0 волна</td>\n",
       "    </tr>\n",
       "    <tr>\n",
       "      <th>8</th>\n",
       "      <td>16</td>\n",
       "      <td>Годовой 2к25 стандарт</td>\n",
       "      <td>Обществознание</td>\n",
       "      <td>ЕГЭ</td>\n",
       "      <td>Годовой</td>\n",
       "      <td>2024-09-16</td>\n",
       "      <td>10010</td>\n",
       "      <td>Мирзоян</td>\n",
       "      <td>Якутск</td>\n",
       "      <td>Да</td>\n",
       "      <td>2024-07-26 11:35:32</td>\n",
       "      <td>2</td>\n",
       "      <td>15</td>\n",
       "      <td>0 волна</td>\n",
       "    </tr>\n",
       "    <tr>\n",
       "      <th>9</th>\n",
       "      <td>18</td>\n",
       "      <td>Годовой 2к25 стандарт</td>\n",
       "      <td>История</td>\n",
       "      <td>ЕГЭ</td>\n",
       "      <td>Годовой</td>\n",
       "      <td>2024-09-18</td>\n",
       "      <td>10010</td>\n",
       "      <td>Мирзоян</td>\n",
       "      <td>Якутск</td>\n",
       "      <td>Да</td>\n",
       "      <td>2024-07-26 11:35:32</td>\n",
       "      <td>2</td>\n",
       "      <td>15</td>\n",
       "      <td>0 волна</td>\n",
       "    </tr>\n",
       "  </tbody>\n",
       "</table>\n",
       "</div>"
      ],
      "text/plain": [
       "   course_id                         course_name            subject  \\\n",
       "0         16               Годовой 2к25 стандарт     Обществознание   \n",
       "1         19               Годовой 2к25 стандарт            Русский   \n",
       "2         24  В погоне за пятеркой 2К25 стандарт  Математика (база)   \n",
       "3         19               Годовой 2к25 стандарт            Русский   \n",
       "4         21               Годовой 2к25 стандарт              Химия   \n",
       "5         25               Годовой 2к25 стандарт           Биология   \n",
       "6         16               Годовой 2к25 стандарт     Обществознание   \n",
       "7         16               Годовой 2к25 стандарт     Обществознание   \n",
       "8         16               Годовой 2к25 стандарт     Обществознание   \n",
       "9         18               Годовой 2к25 стандарт            История   \n",
       "\n",
       "  subject_type course_type course_start_date  student_id student_last_name  \\\n",
       "0          ЕГЭ     Годовой        2024-09-16       10001           Markova   \n",
       "1          ЕГЭ     Годовой        2024-09-21       10001           Markova   \n",
       "2          ЕГЭ     Годовой        2024-09-17       10001           Markova   \n",
       "3          ЕГЭ     Годовой        2024-09-21       10002         Коваленко   \n",
       "4          ЕГЭ     Годовой        2024-09-16       10005             Гусев   \n",
       "5          ЕГЭ     Годовой        2024-09-17       10005             Гусев   \n",
       "6          ЕГЭ     Годовой        2024-09-16       10006           Пушкина   \n",
       "7          ЕГЭ     Годовой        2024-09-16       10009         Чернобель   \n",
       "8          ЕГЭ     Годовой        2024-09-16       10010           Мирзоян   \n",
       "9          ЕГЭ     Годовой        2024-09-18       10010           Мирзоян   \n",
       "\n",
       "               city is_active   course_created_at  full_months_access  \\\n",
       "0            Самара        Да 2024-07-25 18:04:20                   2   \n",
       "1            Самара        Да 2024-07-25 18:04:20                   2   \n",
       "2            Самара        Да 2024-09-01 07:49:22                   2   \n",
       "3            Москва       Нет 2024-07-25 18:07:04                   1   \n",
       "4          Белгород        Да 2024-07-26 05:38:40                   1   \n",
       "5          Белгород        Да 2024-07-26 05:38:48                   1   \n",
       "6            Москва        Да 2024-07-25 18:48:31                   2   \n",
       "7  Минеральные Воды        Да 2024-07-26 06:05:09                   2   \n",
       "8            Якутск        Да 2024-07-26 11:35:32                   2   \n",
       "9            Якутск        Да 2024-07-26 11:35:32                   2   \n",
       "\n",
       "   completed_homeworks_count     wave  \n",
       "0                         10  0 волна  \n",
       "1                          9  0 волна  \n",
       "2                          3  0 волна  \n",
       "3                          5  0 волна  \n",
       "4                          1  0 волна  \n",
       "5                          1  0 волна  \n",
       "6                         17  0 волна  \n",
       "7                         16  0 волна  \n",
       "8                         15  0 волна  \n",
       "9                         15  0 волна  "
      ]
     },
     "execution_count": 249,
     "metadata": {},
     "output_type": "execute_result"
    }
   ],
   "source": [
    "df.head(10)"
   ]
  },
  {
   "cell_type": "code",
   "execution_count": 250,
   "id": "612f37f1",
   "metadata": {},
   "outputs": [],
   "source": [
    "df.to_csv('final.csv')"
   ]
  },
  {
   "cell_type": "code",
   "execution_count": 251,
   "id": "193f845e",
   "metadata": {},
   "outputs": [
    {
     "data": {
      "text/html": [
       "<div>\n",
       "<style scoped>\n",
       "    .dataframe tbody tr th:only-of-type {\n",
       "        vertical-align: middle;\n",
       "    }\n",
       "\n",
       "    .dataframe tbody tr th {\n",
       "        vertical-align: top;\n",
       "    }\n",
       "\n",
       "    .dataframe thead th {\n",
       "        text-align: right;\n",
       "    }\n",
       "</style>\n",
       "<table border=\"1\" class=\"dataframe\">\n",
       "  <thead>\n",
       "    <tr style=\"text-align: right;\">\n",
       "      <th></th>\n",
       "      <th>course_id</th>\n",
       "      <th>course_name</th>\n",
       "      <th>subject</th>\n",
       "      <th>subject_type</th>\n",
       "      <th>course_type</th>\n",
       "      <th>course_start_date</th>\n",
       "      <th>student_id</th>\n",
       "      <th>student_last_name</th>\n",
       "      <th>city</th>\n",
       "      <th>is_active</th>\n",
       "      <th>course_created_at</th>\n",
       "      <th>full_months_access</th>\n",
       "      <th>completed_homeworks_count</th>\n",
       "      <th>wave</th>\n",
       "    </tr>\n",
       "  </thead>\n",
       "  <tbody>\n",
       "  </tbody>\n",
       "</table>\n",
       "</div>"
      ],
      "text/plain": [
       "Empty DataFrame\n",
       "Columns: [course_id, course_name, subject, subject_type, course_type, course_start_date, student_id, student_last_name, city, is_active, course_created_at, full_months_access, completed_homeworks_count, wave]\n",
       "Index: []"
      ]
     },
     "execution_count": 251,
     "metadata": {},
     "output_type": "execute_result"
    }
   ],
   "source": [
    "df[(df['course_name'] == 'Летняя школа 2к24') & (df['subject'] == 'Русский')]"
   ]
  }
 ],
 "metadata": {
  "kernelspec": {
   "display_name": "Python 3",
   "language": "python",
   "name": "python3"
  },
  "language_info": {
   "codemirror_mode": {
    "name": "ipython",
    "version": 3
   },
   "file_extension": ".py",
   "mimetype": "text/x-python",
   "name": "python",
   "nbconvert_exporter": "python",
   "pygments_lexer": "ipython3",
   "version": "3.13.3"
  }
 },
 "nbformat": 4,
 "nbformat_minor": 5
}
